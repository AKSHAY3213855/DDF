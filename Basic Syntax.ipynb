{
 "cells": [
  {
   "cell_type": "code",
   "execution_count": 1,
   "id": "e64da00f",
   "metadata": {},
   "outputs": [],
   "source": [
    "# basic syntax\n",
    "-"
   ]
  },
  {
   "cell_type": "code",
   "execution_count": 3,
   "id": "3fa1ea6d",
   "metadata": {},
   "outputs": [
    {
     "name": "stdout",
     "output_type": "stream",
     "text": [
      "i love my india\n"
     ]
    }
   ],
   "source": [
    "# Using print()\n",
    "print(\"i love my india\")"
   ]
  },
  {
   "cell_type": "code",
   "execution_count": 1,
   "id": "d41e99c5",
   "metadata": {},
   "outputs": [
    {
     "name": "stdout",
     "output_type": "stream",
     "text": [
      "my name is akshay\n",
      "i am akshay\n"
     ]
    }
   ],
   "source": [
    "print(\"my name is akshay\")\n",
    "\n",
    "print(\"i am akshay\")"
   ]
  },
  {
   "cell_type": "code",
   "execution_count": 11,
   "id": "de99c171",
   "metadata": {},
   "outputs": [
    {
     "ename": "SyntaxError",
     "evalue": "unexpected EOF while parsing (69574619.py, line 5)",
     "output_type": "error",
     "traceback": [
      "\u001b[1;36m  Input \u001b[1;32mIn [11]\u001b[1;36m\u001b[0m\n\u001b[1;33m    print(type(1.1)\u001b[0m\n\u001b[1;37m                   ^\u001b[0m\n\u001b[1;31mSyntaxError\u001b[0m\u001b[1;31m:\u001b[0m unexpected EOF while parsing\n"
     ]
    }
   ],
   "source": [
    "#using type()\n",
    "a=10\n",
    "print(type(a))\n",
    "\n",
    "print(type(1.1)"
   ]
  },
  {
   "cell_type": "code",
   "execution_count": 2,
   "id": "be23a493",
   "metadata": {},
   "outputs": [
    {
     "name": "stdout",
     "output_type": "stream",
     "text": [
      "<class 'int'>\n",
      "<class 'str'>\n",
      "<class 'float'>\n"
     ]
    }
   ],
   "source": [
    "#Using type()\n",
    "a=100\n",
    "print(type(a))\n",
    "b=\"anku\"\n",
    "print(type(b))\n",
    "c=1.76\n",
    "print(type(c))"
   ]
  },
  {
   "cell_type": "code",
   "execution_count": null,
   "id": "800b521f",
   "metadata": {},
   "outputs": [],
   "source": [
    "# Using input()\n",
    "a = input(\"enter the value of A:\")\n",
    "print(\"A:\")"
   ]
  },
  {
   "cell_type": "code",
   "execution_count": null,
   "id": "8aa89a49",
   "metadata": {},
   "outputs": [],
   "source": [
    "# Using input()\n",
    "a=input (\"Enter The value Of A:\")\n",
    "print(\"A:\")"
   ]
  },
  {
   "cell_type": "code",
   "execution_count": null,
   "id": "eacf3c89",
   "metadata": {},
   "outputs": [],
   "source": [
    "#i am very happy \n",
    "#cause bring me a new laptop"
   ]
  },
  {
   "cell_type": "code",
   "execution_count": null,
   "id": "02c45d40",
   "metadata": {},
   "outputs": [],
   "source": []
  },
  {
   "cell_type": "code",
   "execution_count": null,
   "id": "97df2c23",
   "metadata": {},
   "outputs": [],
   "source": []
  },
  {
   "cell_type": "code",
   "execution_count": null,
   "id": "fe980c02",
   "metadata": {},
   "outputs": [],
   "source": []
  }
 ],
 "metadata": {
  "kernelspec": {
   "display_name": "Python 3 (ipykernel)",
   "language": "python",
   "name": "python3"
  },
  "language_info": {
   "codemirror_mode": {
    "name": "ipython",
    "version": 3
   },
   "file_extension": ".py",
   "mimetype": "text/x-python",
   "name": "python",
   "nbconvert_exporter": "python",
   "pygments_lexer": "ipython3",
   "version": "3.9.13"
  }
 },
 "nbformat": 4,
 "nbformat_minor": 5
}
